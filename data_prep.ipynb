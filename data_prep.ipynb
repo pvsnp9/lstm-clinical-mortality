{
 "metadata": {
  "language_info": {
   "codemirror_mode": {
    "name": "ipython",
    "version": 3
   },
   "file_extension": ".py",
   "mimetype": "text/x-python",
   "name": "python",
   "nbconvert_exporter": "python",
   "pygments_lexer": "ipython3",
   "version": "3.7.9-final"
  },
  "orig_nbformat": 2,
  "kernelspec": {
   "name": "whiskey",
   "display_name": "whiskey(3.7_GPU)",
   "language": "python"
  }
 },
 "nbformat": 4,
 "nbformat_minor": 2,
 "cells": [
  {
   "source": [
    "### Data Preperation and preprocessing data for LSTM"
   ],
   "cell_type": "markdown",
   "metadata": {}
  },
  {
   "cell_type": "code",
   "execution_count": 1,
   "metadata": {},
   "outputs": [],
   "source": [
    "import numpy as np\n",
    "import pandas as pd\n",
    "import matplotlib.pyplot as plt\n",
    "import seaborn as sns\n",
    "\n",
    "import warnings\n",
    "warnings.filterwarnings('ignore')"
   ]
  },
  {
   "cell_type": "code",
   "execution_count": 2,
   "metadata": {},
   "outputs": [],
   "source": [
    "raw_data = pd.read_csv(\"C:\\\\Users\\\\cssar\\\\890CA\\\\lstm-mimic\\\\lstmmimic.csv\")"
   ]
  },
  {
   "cell_type": "code",
   "execution_count": 3,
   "metadata": {},
   "outputs": [],
   "source": [
    "raw_data['charttime'] = pd.to_datetime(raw_data['charttime'])\n",
    "raw_data['starttime'] = pd.to_datetime(raw_data['starttime'])\n",
    "raw_data['endtime'] = pd.to_datetime(raw_data['endtime'])"
   ]
  },
  {
   "cell_type": "code",
   "execution_count": 4,
   "metadata": {},
   "outputs": [
    {
     "output_type": "stream",
     "name": "stdout",
     "text": [
      "<class 'pandas.core.frame.DataFrame'>\nRangeIndex: 2423949 entries, 0 to 2423948\nData columns (total 24 columns):\n #   Column                Dtype         \n---  ------                -----         \n 0   hadm_id               int64         \n 1   age                   float64       \n 2   gender                int64         \n 3   los                   float64       \n 4   charttime             datetime64[ns]\n 5   starttime             datetime64[ns]\n 6   endtime               datetime64[ns]\n 7   emergency_admission   int64         \n 8   newborn_admission     int64         \n 9   urgent_admission      int64         \n 10  last_micu_unit        int64         \n 11  last_csru_unit        int64         \n 12  last_ccu_unit         int64         \n 13  last_tsicu_unit       int64         \n 14  heart_rate            float64       \n 15  temperature           float64       \n 16  bun                   float64       \n 17  urinout24hrs          float64       \n 18  sodium_citrate        float64       \n 19  potasium              float64       \n 20  bilirubin             float64       \n 21  wbc                   float64       \n 22  chronic_health        int64         \n 23  hospital_expire_flag  int64         \ndtypes: datetime64[ns](3), float64(10), int64(11)\nmemory usage: 443.8 MB\n"
     ]
    }
   ],
   "source": [
    "raw_data.info()"
   ]
  },
  {
   "source": [
    "Converting date time format for charttime, starting time, and ending time"
   ],
   "cell_type": "markdown",
   "metadata": {}
  },
  {
   "cell_type": "code",
   "execution_count": 5,
   "metadata": {},
   "outputs": [],
   "source": [
    "distinct_hospital_admissions = raw_data['hadm_id'].unique()"
   ]
  },
  {
   "cell_type": "code",
   "execution_count": 6,
   "metadata": {},
   "outputs": [
    {
     "output_type": "execute_result",
     "data": {
      "text/plain": [
       "(6536,)"
      ]
     },
     "metadata": {},
     "execution_count": 6
    }
   ],
   "source": [
    "distinct_hospital_admissions.shape"
   ]
  },
  {
   "cell_type": "code",
   "execution_count": 7,
   "metadata": {},
   "outputs": [],
   "source": [
    "def fill_missing_chartevents(hadm_data):\n",
    "    imputed_data = hadm_data\n",
    "    imputed_data['heart_rate'] = 0\n",
    "    imputed_data['temperature'] = 0\n",
    "    imputed_data['bun'] = 0 \n",
    "    imputed_data['urinout24hrs'] = 0\n",
    "    imputed_data['sodium_citrate'] = 0\n",
    "    imputed_data['potasium'] = 0\n",
    "    imputed_data['bilirubin'] = 0\n",
    "    imputed_data['wbc'] = 0\n",
    "    imputed_data['chronic_health'] = 0\n",
    "    imputed_data.drop(['charttime', 'starttime', 'endtime', 'hospital_expire_flag', 'hadm_id'], axis=1, inplace=True)\n",
    "    return imputed_data\n"
   ]
  },
  {
   "cell_type": "code",
   "execution_count": 8,
   "metadata": {},
   "outputs": [],
   "source": [
    "def time_dimension(hadm_id):\n",
    "    subject_data = np.empty((24,19))\n",
    "    targets = raw_data.loc[raw_data['hadm_id'] == hadm_id]\n",
    "    targets = targets.fillna(0)\n",
    "    hospital_expire_flag = targets[0:1:].values[0,23]\n",
    "    date_intervals = pd.date_range(start=targets[0:1:].values[0,5], periods=25, freq='H')\n",
    "    for i in range(24):\n",
    "        capture = targets.loc[(targets['charttime'] > date_intervals[i] ) & (targets['charttime'] <= date_intervals[i+1])]\n",
    "        capture.drop(['charttime', 'starttime', 'endtime', 'hospital_expire_flag', 'hadm_id'], axis=1, inplace=True)\n",
    "        if capture.shape[0] <= 0:\n",
    "            capture = fill_missing_chartevents(targets[0:1:])\n",
    "        subject_data[i] = capture.values[-1]\n",
    "        # subject_data.append(np.asanyarray(capture.values[-1]))\n",
    "    return subject_data, hospital_expire_flag"
   ]
  },
  {
   "cell_type": "code",
   "execution_count": 9,
   "metadata": {
    "tags": []
   },
   "outputs": [],
   "source": [
    "sorted_hadmId = np.sort(distinct_hospital_admissions, axis=None)\n",
    "for i, admission in enumerate(sorted_hadmId):\n",
    "    data, flag = time_dimension(admission)\n",
    "    if i == 0:\n",
    "        complete_data = data\n",
    "        hospital_expire_flag = np.ones(1) if flag else np.zeros(1)\n",
    "    else:\n",
    "        complete_data = np.vstack([complete_data, data])\n",
    "        hospital_expire_flag = np.vstack([hospital_expire_flag, np.ones(1) if flag else np.zeros(1)])\n",
    "X_data = complete_data.reshape(sorted_hadmId.shape[0],24,19)\n",
    "y_data = hospital_expire_flag"
   ]
  },
  {
   "cell_type": "code",
   "execution_count": 10,
   "metadata": {},
   "outputs": [
    {
     "output_type": "stream",
     "name": "stdout",
     "text": [
      "X_data: (6536, 24, 19) y_data: (6536, 1)\n"
     ]
    }
   ],
   "source": [
    "print(f\"X_data: {X_data.shape} y_data: {y_data.shape}\")"
   ]
  },
  {
   "source": [
    "### Save numpy file"
   ],
   "cell_type": "markdown",
   "metadata": {}
  },
  {
   "cell_type": "code",
   "execution_count": 11,
   "metadata": {},
   "outputs": [],
   "source": [
    "numpy_feature_file = \"C:\\\\Users\\\\cssar\\\\890CA\\\\lstm-mimic\\\\features.npy\"\n",
    "numpy_target_file = \"C:\\\\Users\\\\cssar\\\\890CA\\\\lstm-mimic\\\\targets.npy\"\n"
   ]
  },
  {
   "cell_type": "code",
   "execution_count": 12,
   "metadata": {},
   "outputs": [],
   "source": [
    "# write features to file \n",
    "with open(numpy_feature_file, 'wb') as f:\n",
    "    np.save(f, X_data)\n",
    "\n",
    "# write targets to file\n",
    "with open(numpy_target_file, 'wb') as f:\n",
    "    np.save(f, y_data)\n"
   ]
  }
 ]
}